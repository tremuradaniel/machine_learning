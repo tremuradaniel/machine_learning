{
 "cells": [
  {
   "cell_type": "code",
   "execution_count": 19,
   "metadata": {},
   "outputs": [
    {
     "name": "stdout",
     "output_type": "stream",
     "text": [
      "end\n"
     ]
    }
   ],
   "source": [
    "import pandas as pd\n",
    "import math\n",
    "import numpy as np\n",
    "\n",
    "data = pd.read_csv('ml-bugs.csv', header = 0)\n",
    "entropies = {}\n",
    "def calculateEntropy(dataSet):\n",
    "  entropy = 0\n",
    "  valCounts = dataSet.value_counts()\n",
    "  totalElems = dataSet.shape[0]\n",
    "  for key, valCount in valCounts.items():\n",
    "    entropy += -valCount / totalElems * math.log2(valCount / totalElems)\n",
    "    entropies[key] = entropy\n",
    "    \n",
    "  return entropy\n",
    "\n",
    "parentEntropy = calculateEntropy(data.iloc[:, 0])\n",
    "\n",
    "colorEntropy = calculateEntropy(data.iloc[:, 1])\n",
    "colorGain = parentEntropy - colorEntropy\n",
    "\n",
    "LengthEntropy = calculateEntropy(data.iloc[:, 2])\n",
    "lengthGain  = parentEntropy - LengthEntropy\n",
    "\n",
    "below17 = []\n",
    "below20 = []\n",
    "\n",
    "for key, entropy in entropies.items():\n",
    "\n",
    "  if isinstance(key, float):\n",
    "    if key < 17:\n",
    "      below17.append(entropy)\n",
    "    if key < 20:\n",
    "      below20.append(entropy)\n",
    "\n",
    "below17mmEntropiesAverage = sum(below17) / len(below17)\n",
    "below20mmEntropiesAverage = sum(below20) / len(below20) \n",
    "\n",
    "\n",
    "# solution \n",
    "def two_group_ent(first, tot):                        \n",
    "    return -(\n",
    "              first/tot*np.log2(first/tot) +           \n",
    "             (tot-first)/tot*np.log2((tot-first)/tot)\n",
    "             )\n",
    "\n",
    "tot_ent = two_group_ent(10, 24)  \n",
    "# 15 are insects > 17mm\n",
    "# 9 are insects < 17mm                      \n",
    "g17_ent = 15/24 * two_group_ent(11,15) + 9/24 * two_group_ent(6,9)                  \n",
    "\n",
    "answer = tot_ent - g17_ent   \n",
    "\n",
    "\n",
    "print(\"end\")\n"
   ]
  },
  {
   "cell_type": "code",
   "execution_count": null,
   "metadata": {},
   "outputs": [],
   "source": []
  }
 ],
 "metadata": {
  "kernelspec": {
   "display_name": "venv",
   "language": "python",
   "name": "python3"
  },
  "language_info": {
   "codemirror_mode": {
    "name": "ipython",
    "version": 3
   },
   "file_extension": ".py",
   "mimetype": "text/x-python",
   "name": "python",
   "nbconvert_exporter": "python",
   "pygments_lexer": "ipython3",
   "version": "3.8.3"
  },
  "orig_nbformat": 4
 },
 "nbformat": 4,
 "nbformat_minor": 2
}
