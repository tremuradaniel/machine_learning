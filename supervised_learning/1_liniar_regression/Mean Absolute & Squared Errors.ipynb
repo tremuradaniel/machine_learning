{
 "cells": [
  {
   "cell_type": "code",
   "execution_count": 1,
   "metadata": {
    "scrolled": true
   },
   "outputs": [
    {
     "name": "stdout",
     "output_type": "stream",
     "text": [
      "3.88\n"
     ]
    }
   ],
   "source": [
    "# line: y = 1.2x + 2\n",
    "# points: (2, -2), (5, 6), (-4, -4), (-7, 1), (8, 14)\n",
    "def calculateMeanAbsoulteError(initialLine, pointsList):\n",
    "    sum = 0 # sigma\n",
    "    w1 = initialLine[0]\n",
    "    w2 = initialLine[1]\n",
    "    totalPoints = len(pointsList)\n",
    "    for points in pointsList:\n",
    "        x = points[0]\n",
    "        y = points[1]\n",
    "        yHat = w1*x+w2\n",
    "        sum += abs(y-yHat)\n",
    "    return sum / totalPoints\n",
    "\n",
    "print(calculateMeanAbsoulteError((1.2, 2), [(2, -2), (5, 6), (-4, -4), (-7, 1), (8, 14)]))"
   ]
  },
  {
   "cell_type": "code",
   "execution_count": 2,
   "metadata": {},
   "outputs": [
    {
     "name": "stdout",
     "output_type": "stream",
     "text": [
      "10.692000000000002\n"
     ]
    }
   ],
   "source": [
    "def calculateMeanSquaredError(initialLine, pointsList):\n",
    "  sum = 0 # sigma\n",
    "  w1 = initialLine[0]\n",
    "  w2 = initialLine[1]\n",
    "  totalPoints = len(pointsList)\n",
    "  for points in pointsList:\n",
    "        x = points[0]\n",
    "        y = points[1]\n",
    "        yHat = w1*x+w2\n",
    "        sum += (y-yHat)**2\n",
    "  return (sum / totalPoints) * 1/2\n",
    "\n",
    "print(calculateMeanSquaredError((1.2, 2), [(2, -2), (5, 6), (-4, -4), (-7, 1), (8, 14)]))"
   ]
  }
 ],
 "metadata": {
  "kernelspec": {
   "display_name": "Python 3",
   "language": "python",
   "name": "python3"
  },
  "language_info": {
   "codemirror_mode": {
    "name": "ipython",
    "version": 3
   },
   "file_extension": ".py",
   "mimetype": "text/x-python",
   "name": "python",
   "nbconvert_exporter": "python",
   "pygments_lexer": "ipython3",
   "version": "3.10.4"
  }
 },
 "nbformat": 4,
 "nbformat_minor": 4
}
