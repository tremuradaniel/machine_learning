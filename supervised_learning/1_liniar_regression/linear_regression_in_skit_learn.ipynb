{
 "cells": [
  {
   "cell_type": "code",
   "execution_count": null,
   "metadata": {},
   "outputs": [],
   "source": [
    "import pandas as pd\n",
    "from sklearn.linear_model import LinearRegression\n",
    "\n",
    "bmi_life_data = pd.read_csv(\"./data/bmi_and_life_expectancy.csv\")\n",
    "\n",
    "X = bmi_life_data[['BMI']]\n",
    "y = bmi_life_data[['Life expectancy']]\n",
    "\n",
    "bmi_life_model = LinearRegression()\n",
    "bmi_life_model.fit(X, y)\n",
    "\n",
    "# Make a prediction using the model\n",
    "# TODO: Predict life expectancy for a BMI value of 21.07931\n",
    "laos_life_exp = bmi_life_model.predict([[21.07931]])\n",
    "laos_life_exp\n",
    "\n",
    "\n",
    "\n",
    "\"\"\"\n",
    "  BMI was the predictor, also known as an independent variable. \n",
    "  A predictor is a variable you're looking at in order to make predictions \n",
    "  about other variables, while the values you are trying to predict \n",
    "  are known as dependent variables. In this case, life expectancy was \n",
    "  the dependent variable.\n",
    "\"\"\""
   ]
  }
 ],
 "metadata": {
  "kernelspec": {
   "display_name": "Python 3",
   "language": "python",
   "name": "python3"
  },
  "language_info": {
   "codemirror_mode": {
    "name": "ipython",
    "version": 3
   },
   "file_extension": ".py",
   "mimetype": "text/x-python",
   "name": "python",
   "nbconvert_exporter": "python",
   "pygments_lexer": "ipython3",
   "version": "3.8.3"
  }
 },
 "nbformat": 4,
 "nbformat_minor": 4
}
