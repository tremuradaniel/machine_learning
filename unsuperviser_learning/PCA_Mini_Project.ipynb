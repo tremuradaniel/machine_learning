{
 "cells": [
  {
   "cell_type": "markdown",
   "metadata": {},
   "source": [
    "### PCA Mini Project\n",
    "\n",
    "In the lesson, you saw how you could use PCA to substantially reduce the dimensionality of the handwritten digits.  In this mini-project, you will be using the **cars.csv** file.  \n",
    "\n",
    "To begin, run the cell below to read in the necessary libraries and the dataset.  I also read in the helper functions that you used throughout the lesson in case you might find them helpful in completing this project.  Otherwise, you can always create functions of your own!"
   ]
  },
  {
   "cell_type": "code",
   "execution_count": 1,
   "metadata": {
    "collapsed": true
   },
   "outputs": [],
   "source": [
    "import pandas as pd\n",
    "import numpy as np\n",
    "from sklearn.decomposition import PCA\n",
    "from sklearn.preprocessing import StandardScaler\n",
    "from sklearn.ensemble import RandomForestClassifier\n",
    "from sklearn.model_selection import train_test_split\n",
    "from sklearn.metrics import confusion_matrix, accuracy_score\n",
    "from helper_functions_2 import do_pca, scree_plot, plot_components, pca_results\n",
    "from IPython import display\n",
    "import test_code2 as t\n",
    "\n",
    "import matplotlib.pyplot as plt\n",
    "import seaborn as sns\n",
    "\n",
    "%matplotlib inline\n",
    "\n",
    "df = pd.read_csv('./data/cars.csv')"
   ]
  },
  {
   "cell_type": "markdown",
   "metadata": {},
   "source": [
    "`1.` Now your data is stored in **df**.  Use the below cells to take a look your dataset.  At the end of your exploration, use your findings to match the appropriate variable to each key in the dictionary below.  "
   ]
  },
  {
   "cell_type": "code",
   "execution_count": 2,
   "metadata": {
    "collapsed": true
   },
   "outputs": [
    {
     "data": {
      "text/html": [
       "<div>\n",
       "<style scoped>\n",
       "    .dataframe tbody tr th:only-of-type {\n",
       "        vertical-align: middle;\n",
       "    }\n",
       "\n",
       "    .dataframe tbody tr th {\n",
       "        vertical-align: top;\n",
       "    }\n",
       "\n",
       "    .dataframe thead th {\n",
       "        text-align: right;\n",
       "    }\n",
       "</style>\n",
       "<table border=\"1\" class=\"dataframe\">\n",
       "  <thead>\n",
       "    <tr style=\"text-align: right;\">\n",
       "      <th></th>\n",
       "      <th>Sports</th>\n",
       "      <th>SUV</th>\n",
       "      <th>Wagon</th>\n",
       "      <th>Minivan</th>\n",
       "      <th>Pickup</th>\n",
       "      <th>AWD</th>\n",
       "      <th>RWD</th>\n",
       "      <th>Retail</th>\n",
       "      <th>Dealer</th>\n",
       "      <th>Engine</th>\n",
       "      <th>Cylinders</th>\n",
       "      <th>Horsepower</th>\n",
       "      <th>CityMPG</th>\n",
       "      <th>HighwayMPG</th>\n",
       "      <th>Weight</th>\n",
       "      <th>Wheelbase</th>\n",
       "      <th>Length</th>\n",
       "      <th>Width</th>\n",
       "    </tr>\n",
       "  </thead>\n",
       "  <tbody>\n",
       "    <tr>\n",
       "      <th>Acura 3.5 RL</th>\n",
       "      <td>0</td>\n",
       "      <td>0</td>\n",
       "      <td>0</td>\n",
       "      <td>0</td>\n",
       "      <td>0</td>\n",
       "      <td>0</td>\n",
       "      <td>0</td>\n",
       "      <td>43755</td>\n",
       "      <td>39014</td>\n",
       "      <td>3.5</td>\n",
       "      <td>6</td>\n",
       "      <td>225</td>\n",
       "      <td>18</td>\n",
       "      <td>24</td>\n",
       "      <td>3880</td>\n",
       "      <td>115</td>\n",
       "      <td>197</td>\n",
       "      <td>72</td>\n",
       "    </tr>\n",
       "    <tr>\n",
       "      <th>Acura 3.5 RL Navigation</th>\n",
       "      <td>0</td>\n",
       "      <td>0</td>\n",
       "      <td>0</td>\n",
       "      <td>0</td>\n",
       "      <td>0</td>\n",
       "      <td>0</td>\n",
       "      <td>0</td>\n",
       "      <td>46100</td>\n",
       "      <td>41100</td>\n",
       "      <td>3.5</td>\n",
       "      <td>6</td>\n",
       "      <td>225</td>\n",
       "      <td>18</td>\n",
       "      <td>24</td>\n",
       "      <td>3893</td>\n",
       "      <td>115</td>\n",
       "      <td>197</td>\n",
       "      <td>72</td>\n",
       "    </tr>\n",
       "    <tr>\n",
       "      <th>Acura MDX</th>\n",
       "      <td>0</td>\n",
       "      <td>1</td>\n",
       "      <td>0</td>\n",
       "      <td>0</td>\n",
       "      <td>0</td>\n",
       "      <td>1</td>\n",
       "      <td>0</td>\n",
       "      <td>36945</td>\n",
       "      <td>33337</td>\n",
       "      <td>3.5</td>\n",
       "      <td>6</td>\n",
       "      <td>265</td>\n",
       "      <td>17</td>\n",
       "      <td>23</td>\n",
       "      <td>4451</td>\n",
       "      <td>106</td>\n",
       "      <td>189</td>\n",
       "      <td>77</td>\n",
       "    </tr>\n",
       "    <tr>\n",
       "      <th>Acura NSX S</th>\n",
       "      <td>1</td>\n",
       "      <td>0</td>\n",
       "      <td>0</td>\n",
       "      <td>0</td>\n",
       "      <td>0</td>\n",
       "      <td>0</td>\n",
       "      <td>1</td>\n",
       "      <td>89765</td>\n",
       "      <td>79978</td>\n",
       "      <td>3.2</td>\n",
       "      <td>6</td>\n",
       "      <td>290</td>\n",
       "      <td>17</td>\n",
       "      <td>24</td>\n",
       "      <td>3153</td>\n",
       "      <td>100</td>\n",
       "      <td>174</td>\n",
       "      <td>71</td>\n",
       "    </tr>\n",
       "    <tr>\n",
       "      <th>Acura RSX</th>\n",
       "      <td>0</td>\n",
       "      <td>0</td>\n",
       "      <td>0</td>\n",
       "      <td>0</td>\n",
       "      <td>0</td>\n",
       "      <td>0</td>\n",
       "      <td>0</td>\n",
       "      <td>23820</td>\n",
       "      <td>21761</td>\n",
       "      <td>2.0</td>\n",
       "      <td>4</td>\n",
       "      <td>200</td>\n",
       "      <td>24</td>\n",
       "      <td>31</td>\n",
       "      <td>2778</td>\n",
       "      <td>101</td>\n",
       "      <td>172</td>\n",
       "      <td>68</td>\n",
       "    </tr>\n",
       "  </tbody>\n",
       "</table>\n",
       "</div>"
      ],
      "text/plain": [
       "                         Sports  SUV  Wagon  Minivan  Pickup  AWD  RWD  \\\n",
       "Acura 3.5 RL                  0    0      0        0       0    0    0   \n",
       "Acura 3.5 RL Navigation       0    0      0        0       0    0    0   \n",
       "Acura MDX                     0    1      0        0       0    1    0   \n",
       "Acura NSX S                   1    0      0        0       0    0    1   \n",
       "Acura RSX                     0    0      0        0       0    0    0   \n",
       "\n",
       "                         Retail  Dealer  Engine  Cylinders  Horsepower  \\\n",
       "Acura 3.5 RL              43755   39014     3.5          6         225   \n",
       "Acura 3.5 RL Navigation   46100   41100     3.5          6         225   \n",
       "Acura MDX                 36945   33337     3.5          6         265   \n",
       "Acura NSX S               89765   79978     3.2          6         290   \n",
       "Acura RSX                 23820   21761     2.0          4         200   \n",
       "\n",
       "                         CityMPG  HighwayMPG  Weight  Wheelbase  Length  Width  \n",
       "Acura 3.5 RL                  18          24    3880        115     197     72  \n",
       "Acura 3.5 RL Navigation       18          24    3893        115     197     72  \n",
       "Acura MDX                     17          23    4451        106     189     77  \n",
       "Acura NSX S                   17          24    3153        100     174     71  \n",
       "Acura RSX                     24          31    2778        101     172     68  "
      ]
     },
     "execution_count": 2,
     "metadata": {},
     "output_type": "execute_result"
    }
   ],
   "source": [
    "#Use this cell for work\n",
    "df.head()"
   ]
  },
  {
   "cell_type": "code",
   "execution_count": 3,
   "metadata": {
    "collapsed": true
   },
   "outputs": [
    {
     "data": {
      "text/html": [
       "<div>\n",
       "<style scoped>\n",
       "    .dataframe tbody tr th:only-of-type {\n",
       "        vertical-align: middle;\n",
       "    }\n",
       "\n",
       "    .dataframe tbody tr th {\n",
       "        vertical-align: top;\n",
       "    }\n",
       "\n",
       "    .dataframe thead th {\n",
       "        text-align: right;\n",
       "    }\n",
       "</style>\n",
       "<table border=\"1\" class=\"dataframe\">\n",
       "  <thead>\n",
       "    <tr style=\"text-align: right;\">\n",
       "      <th></th>\n",
       "      <th>Sports</th>\n",
       "      <th>SUV</th>\n",
       "      <th>Wagon</th>\n",
       "      <th>Minivan</th>\n",
       "      <th>Pickup</th>\n",
       "      <th>AWD</th>\n",
       "      <th>RWD</th>\n",
       "      <th>Retail</th>\n",
       "      <th>Dealer</th>\n",
       "      <th>Engine</th>\n",
       "      <th>Cylinders</th>\n",
       "      <th>Horsepower</th>\n",
       "      <th>CityMPG</th>\n",
       "      <th>HighwayMPG</th>\n",
       "      <th>Weight</th>\n",
       "      <th>Wheelbase</th>\n",
       "      <th>Length</th>\n",
       "      <th>Width</th>\n",
       "    </tr>\n",
       "  </thead>\n",
       "  <tbody>\n",
       "    <tr>\n",
       "      <th>count</th>\n",
       "      <td>387.000000</td>\n",
       "      <td>387.000000</td>\n",
       "      <td>387.000000</td>\n",
       "      <td>387.000000</td>\n",
       "      <td>387.0</td>\n",
       "      <td>387.000000</td>\n",
       "      <td>387.000000</td>\n",
       "      <td>387.000000</td>\n",
       "      <td>387.000000</td>\n",
       "      <td>387.000000</td>\n",
       "      <td>387.000000</td>\n",
       "      <td>387.000000</td>\n",
       "      <td>387.000000</td>\n",
       "      <td>387.000000</td>\n",
       "      <td>387.000000</td>\n",
       "      <td>387.000000</td>\n",
       "      <td>387.000000</td>\n",
       "      <td>387.000000</td>\n",
       "    </tr>\n",
       "    <tr>\n",
       "      <th>mean</th>\n",
       "      <td>0.116279</td>\n",
       "      <td>0.152455</td>\n",
       "      <td>0.072351</td>\n",
       "      <td>0.054264</td>\n",
       "      <td>0.0</td>\n",
       "      <td>0.201550</td>\n",
       "      <td>0.242894</td>\n",
       "      <td>33231.180879</td>\n",
       "      <td>30440.653747</td>\n",
       "      <td>3.127390</td>\n",
       "      <td>5.757106</td>\n",
       "      <td>214.444444</td>\n",
       "      <td>20.312661</td>\n",
       "      <td>27.263566</td>\n",
       "      <td>3532.457364</td>\n",
       "      <td>107.211886</td>\n",
       "      <td>184.961240</td>\n",
       "      <td>71.276486</td>\n",
       "    </tr>\n",
       "    <tr>\n",
       "      <th>std</th>\n",
       "      <td>0.320974</td>\n",
       "      <td>0.359926</td>\n",
       "      <td>0.259404</td>\n",
       "      <td>0.226830</td>\n",
       "      <td>0.0</td>\n",
       "      <td>0.401677</td>\n",
       "      <td>0.429387</td>\n",
       "      <td>19724.634576</td>\n",
       "      <td>17901.179282</td>\n",
       "      <td>1.014314</td>\n",
       "      <td>1.490182</td>\n",
       "      <td>70.262822</td>\n",
       "      <td>5.262333</td>\n",
       "      <td>5.636005</td>\n",
       "      <td>706.003622</td>\n",
       "      <td>7.086553</td>\n",
       "      <td>13.237999</td>\n",
       "      <td>3.368329</td>\n",
       "    </tr>\n",
       "    <tr>\n",
       "      <th>min</th>\n",
       "      <td>0.000000</td>\n",
       "      <td>0.000000</td>\n",
       "      <td>0.000000</td>\n",
       "      <td>0.000000</td>\n",
       "      <td>0.0</td>\n",
       "      <td>0.000000</td>\n",
       "      <td>0.000000</td>\n",
       "      <td>10280.000000</td>\n",
       "      <td>9875.000000</td>\n",
       "      <td>1.400000</td>\n",
       "      <td>3.000000</td>\n",
       "      <td>73.000000</td>\n",
       "      <td>10.000000</td>\n",
       "      <td>12.000000</td>\n",
       "      <td>1850.000000</td>\n",
       "      <td>89.000000</td>\n",
       "      <td>143.000000</td>\n",
       "      <td>64.000000</td>\n",
       "    </tr>\n",
       "    <tr>\n",
       "      <th>25%</th>\n",
       "      <td>0.000000</td>\n",
       "      <td>0.000000</td>\n",
       "      <td>0.000000</td>\n",
       "      <td>0.000000</td>\n",
       "      <td>0.0</td>\n",
       "      <td>0.000000</td>\n",
       "      <td>0.000000</td>\n",
       "      <td>20997.000000</td>\n",
       "      <td>19575.000000</td>\n",
       "      <td>2.300000</td>\n",
       "      <td>4.000000</td>\n",
       "      <td>165.000000</td>\n",
       "      <td>18.000000</td>\n",
       "      <td>24.000000</td>\n",
       "      <td>3107.000000</td>\n",
       "      <td>103.000000</td>\n",
       "      <td>177.000000</td>\n",
       "      <td>69.000000</td>\n",
       "    </tr>\n",
       "    <tr>\n",
       "      <th>50%</th>\n",
       "      <td>0.000000</td>\n",
       "      <td>0.000000</td>\n",
       "      <td>0.000000</td>\n",
       "      <td>0.000000</td>\n",
       "      <td>0.0</td>\n",
       "      <td>0.000000</td>\n",
       "      <td>0.000000</td>\n",
       "      <td>28495.000000</td>\n",
       "      <td>26155.000000</td>\n",
       "      <td>3.000000</td>\n",
       "      <td>6.000000</td>\n",
       "      <td>210.000000</td>\n",
       "      <td>19.000000</td>\n",
       "      <td>27.000000</td>\n",
       "      <td>3469.000000</td>\n",
       "      <td>107.000000</td>\n",
       "      <td>186.000000</td>\n",
       "      <td>71.000000</td>\n",
       "    </tr>\n",
       "    <tr>\n",
       "      <th>75%</th>\n",
       "      <td>0.000000</td>\n",
       "      <td>0.000000</td>\n",
       "      <td>0.000000</td>\n",
       "      <td>0.000000</td>\n",
       "      <td>0.0</td>\n",
       "      <td>0.000000</td>\n",
       "      <td>0.000000</td>\n",
       "      <td>39552.500000</td>\n",
       "      <td>36124.000000</td>\n",
       "      <td>3.800000</td>\n",
       "      <td>6.000000</td>\n",
       "      <td>250.000000</td>\n",
       "      <td>21.500000</td>\n",
       "      <td>30.000000</td>\n",
       "      <td>3922.000000</td>\n",
       "      <td>112.000000</td>\n",
       "      <td>193.000000</td>\n",
       "      <td>73.000000</td>\n",
       "    </tr>\n",
       "    <tr>\n",
       "      <th>max</th>\n",
       "      <td>1.000000</td>\n",
       "      <td>1.000000</td>\n",
       "      <td>1.000000</td>\n",
       "      <td>1.000000</td>\n",
       "      <td>0.0</td>\n",
       "      <td>1.000000</td>\n",
       "      <td>1.000000</td>\n",
       "      <td>192465.000000</td>\n",
       "      <td>173560.000000</td>\n",
       "      <td>6.000000</td>\n",
       "      <td>12.000000</td>\n",
       "      <td>493.000000</td>\n",
       "      <td>60.000000</td>\n",
       "      <td>66.000000</td>\n",
       "      <td>6400.000000</td>\n",
       "      <td>130.000000</td>\n",
       "      <td>221.000000</td>\n",
       "      <td>81.000000</td>\n",
       "    </tr>\n",
       "  </tbody>\n",
       "</table>\n",
       "</div>"
      ],
      "text/plain": [
       "           Sports         SUV       Wagon     Minivan  Pickup         AWD  \\\n",
       "count  387.000000  387.000000  387.000000  387.000000   387.0  387.000000   \n",
       "mean     0.116279    0.152455    0.072351    0.054264     0.0    0.201550   \n",
       "std      0.320974    0.359926    0.259404    0.226830     0.0    0.401677   \n",
       "min      0.000000    0.000000    0.000000    0.000000     0.0    0.000000   \n",
       "25%      0.000000    0.000000    0.000000    0.000000     0.0    0.000000   \n",
       "50%      0.000000    0.000000    0.000000    0.000000     0.0    0.000000   \n",
       "75%      0.000000    0.000000    0.000000    0.000000     0.0    0.000000   \n",
       "max      1.000000    1.000000    1.000000    1.000000     0.0    1.000000   \n",
       "\n",
       "              RWD         Retail         Dealer      Engine   Cylinders  \\\n",
       "count  387.000000     387.000000     387.000000  387.000000  387.000000   \n",
       "mean     0.242894   33231.180879   30440.653747    3.127390    5.757106   \n",
       "std      0.429387   19724.634576   17901.179282    1.014314    1.490182   \n",
       "min      0.000000   10280.000000    9875.000000    1.400000    3.000000   \n",
       "25%      0.000000   20997.000000   19575.000000    2.300000    4.000000   \n",
       "50%      0.000000   28495.000000   26155.000000    3.000000    6.000000   \n",
       "75%      0.000000   39552.500000   36124.000000    3.800000    6.000000   \n",
       "max      1.000000  192465.000000  173560.000000    6.000000   12.000000   \n",
       "\n",
       "       Horsepower     CityMPG  HighwayMPG       Weight   Wheelbase  \\\n",
       "count  387.000000  387.000000  387.000000   387.000000  387.000000   \n",
       "mean   214.444444   20.312661   27.263566  3532.457364  107.211886   \n",
       "std     70.262822    5.262333    5.636005   706.003622    7.086553   \n",
       "min     73.000000   10.000000   12.000000  1850.000000   89.000000   \n",
       "25%    165.000000   18.000000   24.000000  3107.000000  103.000000   \n",
       "50%    210.000000   19.000000   27.000000  3469.000000  107.000000   \n",
       "75%    250.000000   21.500000   30.000000  3922.000000  112.000000   \n",
       "max    493.000000   60.000000   66.000000  6400.000000  130.000000   \n",
       "\n",
       "           Length       Width  \n",
       "count  387.000000  387.000000  \n",
       "mean   184.961240   71.276486  \n",
       "std     13.237999    3.368329  \n",
       "min    143.000000   64.000000  \n",
       "25%    177.000000   69.000000  \n",
       "50%    186.000000   71.000000  \n",
       "75%    193.000000   73.000000  \n",
       "max    221.000000   81.000000  "
      ]
     },
     "execution_count": 3,
     "metadata": {},
     "output_type": "execute_result"
    }
   ],
   "source": [
    "# and this one\n",
    "df.describe()"
   ]
  },
  {
   "cell_type": "code",
   "execution_count": 5,
   "metadata": {
    "collapsed": true
   },
   "outputs": [
    {
     "data": {
      "text/plain": [
       "66"
      ]
     },
     "execution_count": 5,
     "metadata": {},
     "output_type": "execute_result"
    }
   ],
   "source": [
    "# and this one if you need it - and create more cells if you need them\n",
    "df.shape\n",
    "df['HighwayMPG'].max()"
   ]
  },
  {
   "cell_type": "code",
   "execution_count": 8,
   "metadata": {},
   "outputs": [
    {
     "name": "stdout",
     "output_type": "stream",
     "text": [
      "0.05426356589147287\n"
     ]
    }
   ],
   "source": [
    "count_minivan = df[\"Minivan\"].value_counts().get(1, 0)  # Get the count of 'A', default to 0 if 'A' is not present\n",
    "total_count = len(df)  # Get the total number of data points\n",
    "\n",
    "proportion_minivan = count_minivan / total_count\n",
    "\n",
    "print(proportion_minivan)"
   ]
  },
  {
   "cell_type": "code",
   "execution_count": 11,
   "metadata": {},
   "outputs": [
    {
     "name": "stdout",
     "output_type": "stream",
     "text": [
      "Number of dummy variables: 6\n"
     ]
    }
   ],
   "source": [
    "dummy_variable_count = 0\n",
    "\n",
    "# Iterate through columns and check if they are dummy variables\n",
    "for column in df.columns:\n",
    "    unique_values = df[column].unique()\n",
    "    if set(unique_values) == {0, 1} or set(unique_values) == {1, 0}:\n",
    "        dummy_variable_count += 1\n",
    "\n",
    "print(\"Number of dummy variables:\", dummy_variable_count)"
   ]
  },
  {
   "cell_type": "code",
   "execution_count": 12,
   "metadata": {
    "collapsed": true
   },
   "outputs": [],
   "source": [
    "a = 7\n",
    "b = 66\n",
    "c = 387\n",
    "d = 18\n",
    "e = 0.23\n",
    "f = 0.05\n",
    "\n",
    "solution_1_dict = {\n",
    "    'The number of cars in the dataset': c, #letter here,\n",
    "    'The number of car features in the dataset': d, #letter here,\n",
    "    'The number of dummy variables in the dataset': a,#letter here,\n",
    "    'The proportion of minivans in the dataset': f, #letter here,\n",
    "    'The max highway mpg for any car': b #letter here\n",
    "}"
   ]
  },
  {
   "cell_type": "code",
   "execution_count": 13,
   "metadata": {
    "collapsed": true
   },
   "outputs": [
    {
     "name": "stdout",
     "output_type": "stream",
     "text": [
      "Nice job!  Looks like your dataset matches what we found!\n"
     ]
    },
    {
     "data": {
      "text/html": [
       "<img src=\"https://bit.ly/2K9X0gD\">"
      ],
      "text/plain": [
       "<IPython.core.display.HTML object>"
      ]
     },
     "execution_count": 13,
     "metadata": {},
     "output_type": "execute_result"
    }
   ],
   "source": [
    "# Check your solution against ours by running this cell\n",
    "display.HTML(t.check_question_one(solution_1_dict))"
   ]
  },
  {
   "cell_type": "markdown",
   "metadata": {},
   "source": [
    "`2.` There are some particularly nice properties about PCA to keep in mind.  Use the dictionary below to match the correct variable as the key to each statement.  When you are ready, check your solution against ours by running the following cell."
   ]
  },
  {
   "cell_type": "code",
   "execution_count": 18,
   "metadata": {
    "collapsed": true
   },
   "outputs": [],
   "source": [
    "a = True\n",
    "b = False\n",
    "\n",
    "solution_2_dict = {\n",
    "    'The components span the directions of maximum variability.': a, #letter here,\n",
    "    'The components are always orthogonal to one another.': a, #letter here,\n",
    "    'Eigenvalues tell us the amount of information a component holds': a #letter here\n",
    "}"
   ]
  },
  {
   "cell_type": "code",
   "execution_count": 19,
   "metadata": {
    "collapsed": true
   },
   "outputs": [
    {
     "name": "stdout",
     "output_type": "stream",
     "text": [
      "That's right these are all true.  Principal components are orthogonal, span the directions of maximum variability, and the corresponding eigenvalues tell us how much of the original variability is explained by each component.\n"
     ]
    }
   ],
   "source": [
    "# Check your solution against ours by running this cell\n",
    "t.check_question_two(solution_2_dict)"
   ]
  },
  {
   "cell_type": "markdown",
   "metadata": {},
   "source": [
    "`3.` Fit PCA to reduce the current dimensionality of the datset to 3 dimensions.  You can use the helper functions, or perform the steps on your own.  If you fit on your own, be sure to standardize your data.  At the end of this process, you will want an X matrix with the reduced dimensionality to only 3 features.  Additionally, you will want your **pca** object back that has been used to fit and transform your dataset. "
   ]
  },
  {
   "cell_type": "code",
   "execution_count": 21,
   "metadata": {
    "collapsed": true
   },
   "outputs": [],
   "source": [
    "pca, X_pca = do_pca(3, df)"
   ]
  },
  {
   "cell_type": "markdown",
   "metadata": {},
   "source": [
    "`4.` Once you have your pca object, you can take a closer look at what comprises each of the principal components.  Use the **pca_results** function from the **helper_functions** module assist with taking a closer look at the results of your analysis.  The function takes two arguments: the full dataset and the pca object you created."
   ]
  },
  {
   "cell_type": "code",
   "execution_count": 22,
   "metadata": {},
   "outputs": [
    {
     "data": {
      "text/html": [
       "<div>\n",
       "<style scoped>\n",
       "    .dataframe tbody tr th:only-of-type {\n",
       "        vertical-align: middle;\n",
       "    }\n",
       "\n",
       "    .dataframe tbody tr th {\n",
       "        vertical-align: top;\n",
       "    }\n",
       "\n",
       "    .dataframe thead th {\n",
       "        text-align: right;\n",
       "    }\n",
       "</style>\n",
       "<table border=\"1\" class=\"dataframe\">\n",
       "  <thead>\n",
       "    <tr style=\"text-align: right;\">\n",
       "      <th></th>\n",
       "      <th>Explained Variance</th>\n",
       "      <th>Sports</th>\n",
       "      <th>SUV</th>\n",
       "      <th>Wagon</th>\n",
       "      <th>Minivan</th>\n",
       "      <th>Pickup</th>\n",
       "      <th>AWD</th>\n",
       "      <th>RWD</th>\n",
       "      <th>Retail</th>\n",
       "      <th>Dealer</th>\n",
       "      <th>Engine</th>\n",
       "      <th>Cylinders</th>\n",
       "      <th>Horsepower</th>\n",
       "      <th>CityMPG</th>\n",
       "      <th>HighwayMPG</th>\n",
       "      <th>Weight</th>\n",
       "      <th>Wheelbase</th>\n",
       "      <th>Length</th>\n",
       "      <th>Width</th>\n",
       "    </tr>\n",
       "  </thead>\n",
       "  <tbody>\n",
       "    <tr>\n",
       "      <th>Dimension 1</th>\n",
       "      <td>0.4352</td>\n",
       "      <td>-0.0343</td>\n",
       "      <td>-0.1298</td>\n",
       "      <td>0.0289</td>\n",
       "      <td>-0.0481</td>\n",
       "      <td>-0.0</td>\n",
       "      <td>-0.0928</td>\n",
       "      <td>-0.1175</td>\n",
       "      <td>-0.2592</td>\n",
       "      <td>-0.2576</td>\n",
       "      <td>-0.3396</td>\n",
       "      <td>-0.3263</td>\n",
       "      <td>-0.3118</td>\n",
       "      <td>0.3063</td>\n",
       "      <td>0.3061</td>\n",
       "      <td>-0.3317</td>\n",
       "      <td>-0.2546</td>\n",
       "      <td>-0.2414</td>\n",
       "      <td>-0.2886</td>\n",
       "    </tr>\n",
       "    <tr>\n",
       "      <th>Dimension 2</th>\n",
       "      <td>0.1667</td>\n",
       "      <td>0.4420</td>\n",
       "      <td>-0.2261</td>\n",
       "      <td>-0.0106</td>\n",
       "      <td>-0.2074</td>\n",
       "      <td>0.0</td>\n",
       "      <td>-0.1447</td>\n",
       "      <td>0.3751</td>\n",
       "      <td>0.3447</td>\n",
       "      <td>0.3453</td>\n",
       "      <td>0.0022</td>\n",
       "      <td>0.0799</td>\n",
       "      <td>0.2342</td>\n",
       "      <td>0.0169</td>\n",
       "      <td>0.0433</td>\n",
       "      <td>-0.1832</td>\n",
       "      <td>-0.3066</td>\n",
       "      <td>-0.2701</td>\n",
       "      <td>-0.2163</td>\n",
       "    </tr>\n",
       "    <tr>\n",
       "      <th>Dimension 3</th>\n",
       "      <td>0.1034</td>\n",
       "      <td>0.0875</td>\n",
       "      <td>0.4898</td>\n",
       "      <td>0.0496</td>\n",
       "      <td>-0.2818</td>\n",
       "      <td>0.0</td>\n",
       "      <td>0.5506</td>\n",
       "      <td>-0.2416</td>\n",
       "      <td>0.0154</td>\n",
       "      <td>0.0132</td>\n",
       "      <td>-0.0489</td>\n",
       "      <td>-0.0648</td>\n",
       "      <td>0.0040</td>\n",
       "      <td>-0.1421</td>\n",
       "      <td>-0.2486</td>\n",
       "      <td>0.0851</td>\n",
       "      <td>-0.2846</td>\n",
       "      <td>-0.3361</td>\n",
       "      <td>-0.1369</td>\n",
       "    </tr>\n",
       "  </tbody>\n",
       "</table>\n",
       "</div>"
      ],
      "text/plain": [
       "             Explained Variance  Sports     SUV   Wagon  Minivan  Pickup  \\\n",
       "Dimension 1              0.4352 -0.0343 -0.1298  0.0289  -0.0481    -0.0   \n",
       "Dimension 2              0.1667  0.4420 -0.2261 -0.0106  -0.2074     0.0   \n",
       "Dimension 3              0.1034  0.0875  0.4898  0.0496  -0.2818     0.0   \n",
       "\n",
       "                AWD     RWD  Retail  Dealer  Engine  Cylinders  Horsepower  \\\n",
       "Dimension 1 -0.0928 -0.1175 -0.2592 -0.2576 -0.3396    -0.3263     -0.3118   \n",
       "Dimension 2 -0.1447  0.3751  0.3447  0.3453  0.0022     0.0799      0.2342   \n",
       "Dimension 3  0.5506 -0.2416  0.0154  0.0132 -0.0489    -0.0648      0.0040   \n",
       "\n",
       "             CityMPG  HighwayMPG  Weight  Wheelbase  Length   Width  \n",
       "Dimension 1   0.3063      0.3061 -0.3317    -0.2546 -0.2414 -0.2886  \n",
       "Dimension 2   0.0169      0.0433 -0.1832    -0.3066 -0.2701 -0.2163  \n",
       "Dimension 3  -0.1421     -0.2486  0.0851    -0.2846 -0.3361 -0.1369  "
      ]
     },
     "execution_count": 22,
     "metadata": {},
     "output_type": "execute_result"
    },
    {
     "data": {
      "image/png": "[encoded data removed]",
      "text/plain": [
       "<Figure size 1400x800 with 1 Axes>"
      ]
     },
     "metadata": {},
     "output_type": "display_data"
    }
   ],
   "source": [
    "pca_results(df, pca)"
   ]
  },
  {
   "cell_type": "markdown",
   "metadata": {},
   "source": [
    "`5.` Use the results, to match each of the variables as the value to the most appropriate key in the dictionary below.  When you are ready to check your answers, run the following cell to see if your solution matches ours!"
   ]
  },
  {
   "cell_type": "code",
   "execution_count": 29,
   "metadata": {
    "collapsed": true
   },
   "outputs": [],
   "source": [
    "a = 'car weight'\n",
    "b = 'sports cars'\n",
    "c = 'gas mileage'\n",
    "d = 0.4352\n",
    "e = 0.3061\n",
    "f = 0.1667\n",
    "g = 0.7053\n",
    "\n",
    "solution_5_dict = {\n",
    "    'The first component positively weights items related to': c, #letter here, \n",
    "    'The amount of variability explained by the first component is': d, #letter here,\n",
    "    'The largest weight of the second component is related to': b, #letter here,\n",
    "    'The total amount of variability explained by the first three components': g #letter here\n",
    "}"
   ]
  },
  {
   "cell_type": "code",
   "execution_count": 30,
   "metadata": {
    "collapsed": true
   },
   "outputs": [
    {
     "name": "stdout",
     "output_type": "stream",
     "text": [
      "That's right!  Looks like you know a lot about PCA!\n"
     ]
    }
   ],
   "source": [
    "# Run this cell to check if your solution matches ours.\n",
    "t.check_question_five(solution_5_dict)"
   ]
  },
  {
   "cell_type": "markdown",
   "metadata": {},
   "source": [
    "`6.` How many components need to be kept to explain at least 85% of the variability in the original dataset?  When you think you have the answer, store it in the variable `num_comps`.  Then run the following cell to see if your solution matches ours!"
   ]
  },
  {
   "cell_type": "code",
   "execution_count": 35,
   "metadata": {
    "collapsed": true
   },
   "outputs": [
    {
     "data": {
      "text/html": [
       "<div>\n",
       "<style scoped>\n",
       "    .dataframe tbody tr th:only-of-type {\n",
       "        vertical-align: middle;\n",
       "    }\n",
       "\n",
       "    .dataframe tbody tr th {\n",
       "        vertical-align: top;\n",
       "    }\n",
       "\n",
       "    .dataframe thead th {\n",
       "        text-align: right;\n",
       "    }\n",
       "</style>\n",
       "<table border=\"1\" class=\"dataframe\">\n",
       "  <thead>\n",
       "    <tr style=\"text-align: right;\">\n",
       "      <th></th>\n",
       "      <th>Explained Variance</th>\n",
       "      <th>Sports</th>\n",
       "      <th>SUV</th>\n",
       "      <th>Wagon</th>\n",
       "      <th>Minivan</th>\n",
       "      <th>Pickup</th>\n",
       "      <th>AWD</th>\n",
       "      <th>RWD</th>\n",
       "      <th>Retail</th>\n",
       "      <th>Dealer</th>\n",
       "      <th>Engine</th>\n",
       "      <th>Cylinders</th>\n",
       "      <th>Horsepower</th>\n",
       "      <th>CityMPG</th>\n",
       "      <th>HighwayMPG</th>\n",
       "      <th>Weight</th>\n",
       "      <th>Wheelbase</th>\n",
       "      <th>Length</th>\n",
       "      <th>Width</th>\n",
       "    </tr>\n",
       "  </thead>\n",
       "  <tbody>\n",
       "    <tr>\n",
       "      <th>Dimension 1</th>\n",
       "      <td>0.4352</td>\n",
       "      <td>-0.0343</td>\n",
       "      <td>-0.1298</td>\n",
       "      <td>0.0289</td>\n",
       "      <td>-0.0481</td>\n",
       "      <td>-0.0</td>\n",
       "      <td>-0.0928</td>\n",
       "      <td>-0.1175</td>\n",
       "      <td>-0.2592</td>\n",
       "      <td>-0.2576</td>\n",
       "      <td>-0.3396</td>\n",
       "      <td>-0.3263</td>\n",
       "      <td>-0.3118</td>\n",
       "      <td>0.3063</td>\n",
       "      <td>0.3061</td>\n",
       "      <td>-0.3317</td>\n",
       "      <td>-0.2546</td>\n",
       "      <td>-0.2414</td>\n",
       "      <td>-0.2886</td>\n",
       "    </tr>\n",
       "    <tr>\n",
       "      <th>Dimension 2</th>\n",
       "      <td>0.1667</td>\n",
       "      <td>0.4420</td>\n",
       "      <td>-0.2261</td>\n",
       "      <td>-0.0106</td>\n",
       "      <td>-0.2074</td>\n",
       "      <td>0.0</td>\n",
       "      <td>-0.1447</td>\n",
       "      <td>0.3751</td>\n",
       "      <td>0.3447</td>\n",
       "      <td>0.3453</td>\n",
       "      <td>0.0022</td>\n",
       "      <td>0.0799</td>\n",
       "      <td>0.2342</td>\n",
       "      <td>0.0169</td>\n",
       "      <td>0.0433</td>\n",
       "      <td>-0.1832</td>\n",
       "      <td>-0.3066</td>\n",
       "      <td>-0.2701</td>\n",
       "      <td>-0.2163</td>\n",
       "    </tr>\n",
       "    <tr>\n",
       "      <th>Dimension 3</th>\n",
       "      <td>0.1034</td>\n",
       "      <td>0.0875</td>\n",
       "      <td>0.4898</td>\n",
       "      <td>0.0496</td>\n",
       "      <td>-0.2818</td>\n",
       "      <td>0.0</td>\n",
       "      <td>0.5506</td>\n",
       "      <td>-0.2416</td>\n",
       "      <td>0.0154</td>\n",
       "      <td>0.0132</td>\n",
       "      <td>-0.0489</td>\n",
       "      <td>-0.0648</td>\n",
       "      <td>0.0040</td>\n",
       "      <td>-0.1421</td>\n",
       "      <td>-0.2486</td>\n",
       "      <td>0.0851</td>\n",
       "      <td>-0.2846</td>\n",
       "      <td>-0.3361</td>\n",
       "      <td>-0.1369</td>\n",
       "    </tr>\n",
       "    <tr>\n",
       "      <th>Dimension 4</th>\n",
       "      <td>0.0631</td>\n",
       "      <td>-0.2734</td>\n",
       "      <td>-0.1709</td>\n",
       "      <td>0.8754</td>\n",
       "      <td>-0.3000</td>\n",
       "      <td>0.0</td>\n",
       "      <td>0.0822</td>\n",
       "      <td>0.0865</td>\n",
       "      <td>0.0373</td>\n",
       "      <td>0.0424</td>\n",
       "      <td>-0.0028</td>\n",
       "      <td>0.0540</td>\n",
       "      <td>0.0198</td>\n",
       "      <td>0.0069</td>\n",
       "      <td>0.0242</td>\n",
       "      <td>0.0153</td>\n",
       "      <td>0.0627</td>\n",
       "      <td>0.0884</td>\n",
       "      <td>-0.0789</td>\n",
       "    </tr>\n",
       "    <tr>\n",
       "      <th>Dimension 5</th>\n",
       "      <td>0.0556</td>\n",
       "      <td>0.3003</td>\n",
       "      <td>-0.2085</td>\n",
       "      <td>0.3451</td>\n",
       "      <td>0.7610</td>\n",
       "      <td>0.0</td>\n",
       "      <td>0.2005</td>\n",
       "      <td>-0.0576</td>\n",
       "      <td>0.0122</td>\n",
       "      <td>0.0101</td>\n",
       "      <td>-0.1050</td>\n",
       "      <td>-0.1477</td>\n",
       "      <td>-0.0189</td>\n",
       "      <td>-0.1472</td>\n",
       "      <td>-0.1535</td>\n",
       "      <td>0.0319</td>\n",
       "      <td>-0.0870</td>\n",
       "      <td>-0.1746</td>\n",
       "      <td>0.0827</td>\n",
       "    </tr>\n",
       "    <tr>\n",
       "      <th>Dimension 6</th>\n",
       "      <td>0.0442</td>\n",
       "      <td>-0.2309</td>\n",
       "      <td>-0.1778</td>\n",
       "      <td>-0.1288</td>\n",
       "      <td>0.1163</td>\n",
       "      <td>-0.0</td>\n",
       "      <td>0.3508</td>\n",
       "      <td>-0.4156</td>\n",
       "      <td>0.4039</td>\n",
       "      <td>0.4076</td>\n",
       "      <td>-0.0646</td>\n",
       "      <td>-0.0412</td>\n",
       "      <td>0.1246</td>\n",
       "      <td>0.3331</td>\n",
       "      <td>0.3304</td>\n",
       "      <td>0.0328</td>\n",
       "      <td>0.0699</td>\n",
       "      <td>0.0845</td>\n",
       "      <td>-0.0731</td>\n",
       "    </tr>\n",
       "  </tbody>\n",
       "</table>\n",
       "</div>"
      ],
      "text/plain": [
       "             Explained Variance  Sports     SUV   Wagon  Minivan  Pickup  \\\n",
       "Dimension 1              0.4352 -0.0343 -0.1298  0.0289  -0.0481    -0.0   \n",
       "Dimension 2              0.1667  0.4420 -0.2261 -0.0106  -0.2074     0.0   \n",
       "Dimension 3              0.1034  0.0875  0.4898  0.0496  -0.2818     0.0   \n",
       "Dimension 4              0.0631 -0.2734 -0.1709  0.8754  -0.3000     0.0   \n",
       "Dimension 5              0.0556  0.3003 -0.2085  0.3451   0.7610     0.0   \n",
       "Dimension 6              0.0442 -0.2309 -0.1778 -0.1288   0.1163    -0.0   \n",
       "\n",
       "                AWD     RWD  Retail  Dealer  Engine  Cylinders  Horsepower  \\\n",
       "Dimension 1 -0.0928 -0.1175 -0.2592 -0.2576 -0.3396    -0.3263     -0.3118   \n",
       "Dimension 2 -0.1447  0.3751  0.3447  0.3453  0.0022     0.0799      0.2342   \n",
       "Dimension 3  0.5506 -0.2416  0.0154  0.0132 -0.0489    -0.0648      0.0040   \n",
       "Dimension 4  0.0822  0.0865  0.0373  0.0424 -0.0028     0.0540      0.0198   \n",
       "Dimension 5  0.2005 -0.0576  0.0122  0.0101 -0.1050    -0.1477     -0.0189   \n",
       "Dimension 6  0.3508 -0.4156  0.4039  0.4076 -0.0646    -0.0412      0.1246   \n",
       "\n",
       "             CityMPG  HighwayMPG  Weight  Wheelbase  Length   Width  \n",
       "Dimension 1   0.3063      0.3061 -0.3317    -0.2546 -0.2414 -0.2886  \n",
       "Dimension 2   0.0169      0.0433 -0.1832    -0.3066 -0.2701 -0.2163  \n",
       "Dimension 3  -0.1421     -0.2486  0.0851    -0.2846 -0.3361 -0.1369  \n",
       "Dimension 4   0.0069      0.0242  0.0153     0.0627  0.0884 -0.0789  \n",
       "Dimension 5  -0.1472     -0.1535  0.0319    -0.0870 -0.1746  0.0827  \n",
       "Dimension 6   0.3331      0.3304  0.0328     0.0699  0.0845 -0.0731  "
      ]
     },
     "execution_count": 35,
     "metadata": {},
     "output_type": "execute_result"
    },
    {
     "data": {
      "image/png": "[encoded data removed]",
      "text/plain": [
       "<Figure size 1400x800 with 1 Axes>"
      ]
     },
     "metadata": {},
     "output_type": "display_data"
    }
   ],
   "source": [
    "#Code to find number of components providing more than \n",
    "# 85% of variance explained\n",
    "pca, X_pca = do_pca(6, df)\n",
    "pca_results(df, pca)\n",
    "# num_comps = #num components stored here"
   ]
  },
  {
   "cell_type": "code",
   "execution_count": 37,
   "metadata": {
    "collapsed": true
   },
   "outputs": [
    {
     "name": "stdout",
     "output_type": "stream",
     "text": [
      "Nice job!  That's right!  With 6 components, you can explain more than 85% of the variability in the original dataset.\n"
     ]
    },
    {
     "data": {
      "text/html": [
       "<img src=\"https://bit.ly/2cKTiso\">"
      ],
      "text/plain": [
       "<IPython.core.display.HTML object>"
      ]
     },
     "execution_count": 37,
     "metadata": {},
     "output_type": "execute_result"
    }
   ],
   "source": [
    "# Now check your answer here to complete this mini project!\n",
    "num_comps = 6\n",
    "display.HTML(t.question_check_six(num_comps))"
   ]
  }
 ],
 "metadata": {
  "kernelspec": {
   "display_name": "Python 3",
   "language": "python",
   "name": "python3"
  },
  "language_info": {
   "codemirror_mode": {
    "name": "ipython",
    "version": 3
   },
   "file_extension": ".py",
   "mimetype": "text/x-python",
   "name": "python",
   "nbconvert_exporter": "python",
   "pygments_lexer": "ipython3",
   "version": "3.8.3"
  }
 },
 "nbformat": 4,
 "nbformat_minor": 2
}
