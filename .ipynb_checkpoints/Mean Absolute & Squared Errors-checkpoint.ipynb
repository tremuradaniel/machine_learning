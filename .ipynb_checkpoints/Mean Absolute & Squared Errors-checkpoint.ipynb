{
 "cells": [
  {
   "cell_type": "code",
   "execution_count": 11,
   "metadata": {
    "scrolled": true
   },
   "outputs": [],
   "source": [
    "# line: y = 1.2x + 2\n",
    "# points: (2, -2), (5, 6), (-4, -4), (-7, 1), (8, 14)\n",
    "\n",
    "def calculateMeanAbsoulteError(initialLine, pointsList):\n",
    "    sum = 0 # sigma\n",
    "    w1 = initialLine[0]\n",
    "    w2 = initialLine[1]\n",
    "    totalPoints = len(pointsList)\n",
    "    for points in pointsList:\n",
    "        x = points[0]\n",
    "        y = points[1]\n",
    "        yHat = w1*x+w2\n",
    "        sum += abs(y-yHat)\n",
    "    return sum / totalPoints"
   ]
  },
  {
   "cell_type": "code",
   "execution_count": 12,
   "metadata": {},
   "outputs": [
    {
     "name": "stdout",
     "output_type": "stream",
     "text": [
      "2\n",
      "-2\n",
      "5\n",
      "6\n",
      "-4\n",
      "-4\n",
      "-7\n",
      "1\n",
      "8\n",
      "14\n",
      "None\n"
     ]
    }
   ],
   "source": [
    "print(meanAbsoulteError((1.2, 2), [(2, -2), (5, 6), (-4, -4), (-7, 1), (8, 14)]))"
   ]
  },
  {
   "cell_type": "code",
   "execution_count": null,
   "metadata": {},
   "outputs": [],
   "source": []
  }
 ],
 "metadata": {
  "kernelspec": {
   "display_name": "Python 3",
   "language": "python",
   "name": "python3"
  },
  "language_info": {
   "codemirror_mode": {
    "name": "ipython",
    "version": 3
   },
   "file_extension": ".py",
   "mimetype": "text/x-python",
   "name": "python",
   "nbconvert_exporter": "python",
   "pygments_lexer": "ipython3",
   "version": "3.8.3"
  }
 },
 "nbformat": 4,
 "nbformat_minor": 4
}
